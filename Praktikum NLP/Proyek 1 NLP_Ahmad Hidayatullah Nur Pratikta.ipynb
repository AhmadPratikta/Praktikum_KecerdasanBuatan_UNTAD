{
 "cells": [
  {
   "cell_type": "code",
   "execution_count": 8,
   "id": "governing-marshall",
   "metadata": {},
   "outputs": [],
   "source": [
    "#sebuah modul\n",
    "\n",
    "import re"
   ]
  },
  {
   "cell_type": "code",
   "execution_count": 9,
   "id": "known-visitor",
   "metadata": {},
   "outputs": [],
   "source": [
    "text =\"\"\"Analisis regresi merupakan salah satu metode yang ada dalam ilmu statistika, dan masih banyak digunakan \n",
    "hingga saat ini. Tujuan utama dari analisis regresi ini adalah untuk melihat hubungan sebab akibat yang terjadi \n",
    "antara variabel yang satu dengan yang lainnya. Variabel penyebab dari regresi dikenal juga sebagai variabel X, \n",
    "variabel penjelas, variabel eksplanatori, atau variabel independen. Sedangkan variabel yang terkena dampak \n",
    "dikenal sebagai variabel Y, variabel yang dipengaruhi, variabel dependen, atau variabel terikat.\"\"\""
   ]
  },
  {
   "cell_type": "code",
   "execution_count": 10,
   "id": "specialized-constitution",
   "metadata": {},
   "outputs": [
    {
     "data": {
      "text/plain": [
       "'Analisis regresi merupakan salah satu metode yang ada dalam ilmu statistika, dan masih banyak digunakan \\nhingga saat ini. Tujuan utama dari analisis regresi ini adalah untuk melihat hubungan sebab akibat yang terjadi \\nantara variabel yang satu dengan yang lainnya. Variabel penyebab dari regresi dikenal juga sebagai variabel X, \\nvariabel penjelas, variabel eksplanatori, atau variabel independen. Sedangkan variabel yang terkena dampak \\ndikenal sebagai variabel Y, variabel yang dipengaruhi, variabel dependen, atau variabel terikat.'"
      ]
     },
     "execution_count": 10,
     "metadata": {},
     "output_type": "execute_result"
    }
   ],
   "source": [
    "text"
   ]
  },
  {
   "cell_type": "code",
   "execution_count": 11,
   "id": "adapted-shoulder",
   "metadata": {},
   "outputs": [
    {
     "data": {
      "text/plain": [
       "['analisis',\n",
       " 'regresi',\n",
       " 'merupakan',\n",
       " 'salah',\n",
       " 'satu',\n",
       " 'metode',\n",
       " 'yang',\n",
       " 'ada',\n",
       " 'dalam',\n",
       " 'ilmu',\n",
       " 'statistika',\n",
       " 'dan',\n",
       " 'masih',\n",
       " 'banyak',\n",
       " 'digunakan',\n",
       " 'hingga',\n",
       " 'saat',\n",
       " 'ini.',\n",
       " 'tujuan',\n",
       " 'utama',\n",
       " 'dari',\n",
       " 'analisis',\n",
       " 'regresi',\n",
       " 'ini',\n",
       " 'adalah',\n",
       " 'untuk',\n",
       " 'melihat',\n",
       " 'hubungan',\n",
       " 'sebab',\n",
       " 'akibat',\n",
       " 'yang',\n",
       " 'terjadi',\n",
       " 'antara',\n",
       " 'variabel',\n",
       " 'yang',\n",
       " 'satu',\n",
       " 'dengan',\n",
       " 'yang',\n",
       " 'lainnya.',\n",
       " 'variabel',\n",
       " 'penyebab',\n",
       " 'dari',\n",
       " 'regresi',\n",
       " 'dikenal',\n",
       " 'juga',\n",
       " 'sebagai',\n",
       " 'variabel',\n",
       " 'x',\n",
       " 'variabel',\n",
       " 'penjelas',\n",
       " 'variabel',\n",
       " 'eksplanatori',\n",
       " 'atau',\n",
       " 'variabel',\n",
       " 'independen.',\n",
       " 'sedangkan',\n",
       " 'variabel',\n",
       " 'yang',\n",
       " 'terkena',\n",
       " 'dampak',\n",
       " 'dikenal',\n",
       " 'sebagai',\n",
       " 'variabel',\n",
       " 'y',\n",
       " 'variabel',\n",
       " 'yang',\n",
       " 'dipengaruhi',\n",
       " 'variabel',\n",
       " 'dependen',\n",
       " 'atau',\n",
       " 'variabel',\n",
       " 'terikat.']"
      ]
     },
     "execution_count": 11,
     "metadata": {},
     "output_type": "execute_result"
    }
   ],
   "source": [
    "ubah_huruf_kecil = text.lower()\n",
    "hapus_selain_huruf = re.sub(r'([^A-Za-z0-9\\/\\.]+)', ' ', ubah_huruf_kecil)\n",
    "token = re.split(r'\\s+', hapus_selain_huruf)\n",
    "token"
   ]
  },
  {
   "cell_type": "code",
   "execution_count": 13,
   "id": "after-fitting",
   "metadata": {},
   "outputs": [
    {
     "name": "stdout",
     "output_type": "stream",
     "text": [
      "analisis 2\n",
      "regresi 3\n",
      "merupakan 1\n",
      "salah 1\n",
      "satu 2\n",
      "metode 1\n",
      "yang 6\n",
      "ada 1\n",
      "dalam 1\n",
      "ilmu 1\n",
      "statistika 1\n",
      "dan 1\n",
      "masih 1\n",
      "banyak 1\n",
      "digunakan 1\n",
      "hingga 1\n",
      "saat 1\n",
      "ini. 1\n",
      "tujuan 1\n",
      "utama 1\n",
      "dari 2\n",
      "ini 1\n",
      "adalah 1\n",
      "untuk 1\n",
      "melihat 1\n",
      "hubungan 1\n",
      "sebab 1\n",
      "akibat 1\n",
      "terjadi 1\n",
      "antara 1\n",
      "variabel 11\n",
      "dengan 1\n",
      "lainnya. 1\n",
      "penyebab 1\n",
      "dikenal 2\n",
      "juga 1\n",
      "sebagai 2\n",
      "x 1\n",
      "penjelas 1\n",
      "eksplanatori 1\n",
      "atau 2\n",
      "independen. 1\n",
      "sedangkan 1\n",
      "terkena 1\n",
      "dampak 1\n",
      "y 1\n",
      "dipengaruhi 1\n",
      "dependen 1\n",
      "terikat. 1\n"
     ]
    }
   ],
   "source": [
    "frekuensi_kata = {}\n",
    "\n",
    "for kata in token:\n",
    "    hitung = frekuensi_kata.get(kata,0)\n",
    "    frekuensi_kata[kata] = hitung+1\n",
    "    \n",
    "list_frekuensi = frekuensi_kata.keys()\n",
    "\n",
    "for kata in list_frekuensi:\n",
    "    print(kata, frekuensi_kata[kata])"
   ]
  }
 ],
 "metadata": {
  "kernelspec": {
   "display_name": "Python 3",
   "language": "python",
   "name": "python3"
  },
  "language_info": {
   "codemirror_mode": {
    "name": "ipython",
    "version": 3
   },
   "file_extension": ".py",
   "mimetype": "text/x-python",
   "name": "python",
   "nbconvert_exporter": "python",
   "pygments_lexer": "ipython3",
   "version": "3.9.0"
  }
 },
 "nbformat": 4,
 "nbformat_minor": 5
}
